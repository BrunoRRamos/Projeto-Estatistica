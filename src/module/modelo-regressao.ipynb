{
 "cells": [
  {
   "cell_type": "code",
   "execution_count": null,
   "metadata": {},
   "outputs": [],
   "source": [
    "#Instalando dependencias\n",
    "%pip install pandas\n",
    "%pip install numpy\n",
    "%pip install matplotlib\n",
    "%pip install seaborn\n",
    "%pip install statsmodels\n",
    "%pip install scikit-learn\n",
    "%pip install scipy\n",
    "%pip install yellowbrick\n",
    "\n",
    "#Setando imports necessários\n",
    "\n",
    "import pandas as pd\n",
    "import numpy as np\n",
    "import matplotlib.pyplot as plt\n",
    "import seaborn as sns\n",
    "import statsmodels.api as sm\n",
    "pd.set_option('display.max_columns', 500)\n",
    "from sklearn.model_selection import train_test_split\n",
    "import warnings\n",
    "warnings.filterwarnings(\"ignore\")\n",
    "from scipy.stats import kurtosis\n",
    "import statsmodels.stats.api as sms\n",
    "from statsmodels.compat import lzip\n",
    "from statsmodels.graphics.gofplots import qqplot\n",
    "from statsmodels.graphics.tsaplots import plot_acf\n",
    "from statsmodels.stats.diagnostic import het_breuschpagan, het_goldfeldquandt,het_white\n",
    "from statsmodels.stats.diagnostic import linear_harvey_collier, linear_reset, spec_white\n",
    "from statsmodels.stats.diagnostic import linear_rainbow\n",
    "from statsmodels.graphics.regressionplots import plot_leverage_resid2\n",
    "from yellowbrick.regressor import CooksDistance\n",
    "from statsmodels.stats.outliers_influence import OLSInfluence, variance_inflation_factor\n",
    "from sklearn.linear_model import LinearRegression\n"
   ]
  },
  {
   "cell_type": "code",
   "execution_count": 3,
   "metadata": {},
   "outputs": [
    {
     "name": "stdout",
     "output_type": "stream",
     "text": [
      "                                                   Private;\"Apps\";\"Accept\";\"Enroll\";\"Top10perc\";\"Top25perc\";\"F.Undergrad\";\"P.Undergrad\";\"Outstate\";\"Room.Board\";\"Books\";\"Personal\";\"PhD\";\"Terminal\";\"S.F.Ratio\";\"perc.alumni\";\"Expend\";\"Grad.Rate\"\n",
      "Abilene Christian University;\"Yes\";1660;1232;72...                                       1;12;7041;60                                                                                                                                             \n",
      "Adelphi University;\"Yes\";2186;1924;512;16;29;26...                                      2;16;10527;56                                                                                                                                             \n",
      "Adrian College;\"Yes\";1428;1097;336;22;50;1036;9...                                       9;30;8735;54                                                                                                                                             \n",
      "Agnes Scott College;\"Yes\";417;349;137;60;89;510...                                      7;37;19016;59                                                                                                                                             \n",
      "Alaska Pacific University;\"Yes\";193;146;55;16;4...                                       9;2;10922;15                                                                                                                                             \n"
     ]
    }
   ],
   "source": [
    "#Importando base de dados:\n",
    "college = pd.read_csv('../data/College-db.csv')\n",
    "\n",
    "print(college.head())"
   ]
  }
 ],
 "metadata": {
  "kernelspec": {
   "display_name": "Python 3",
   "language": "python",
   "name": "python3"
  },
  "language_info": {
   "codemirror_mode": {
    "name": "ipython",
    "version": 3
   },
   "file_extension": ".py",
   "mimetype": "text/x-python",
   "name": "python",
   "nbconvert_exporter": "python",
   "pygments_lexer": "ipython3",
   "version": "3.9.13"
  }
 },
 "nbformat": 4,
 "nbformat_minor": 2
}
